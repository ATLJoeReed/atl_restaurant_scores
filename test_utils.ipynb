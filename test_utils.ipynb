{
 "cells": [
  {
   "cell_type": "code",
   "execution_count": 1,
   "metadata": {},
   "outputs": [],
   "source": [
    "from config import constants_sql, settings\n",
    "import utils"
   ]
  },
  {
   "cell_type": "code",
   "execution_count": 2,
   "metadata": {},
   "outputs": [],
   "source": [
    "logger = utils.setup_logger_stdout('testing_utils')"
   ]
  },
  {
   "cell_type": "code",
   "execution_count": 3,
   "metadata": {},
   "outputs": [],
   "source": [
    "conn, cur, dict_cur = utils.get_database_connection()"
   ]
  },
  {
   "cell_type": "code",
   "execution_count": 4,
   "metadata": {},
   "outputs": [
    {
     "name": "stdout",
     "output_type": "stream",
     "text": [
      "2019-10-19 21:20:01,941 - testing_utils - INFO - Extract URL: https://data.fultoncountyga.gov/resource/w896-7wba.json?$where=date_trunc_ymd(date) between '2019-10-05' and '2019-10-20'\n"
     ]
    }
   ],
   "source": [
    "url = utils.build_extract_url(logger)"
   ]
  },
  {
   "cell_type": "code",
   "execution_count": 5,
   "metadata": {},
   "outputs": [],
   "source": [
    "results = utils.extract_data(url, logger)"
   ]
  },
  {
   "cell_type": "code",
   "execution_count": 6,
   "metadata": {},
   "outputs": [
    {
     "data": {
      "text/plain": [
       "220"
      ]
     },
     "execution_count": 6,
     "metadata": {},
     "output_type": "execute_result"
    }
   ],
   "source": [
    "len(results)"
   ]
  },
  {
   "cell_type": "code",
   "execution_count": 7,
   "metadata": {},
   "outputs": [
    {
     "data": {
      "text/plain": [
       "{'inspection_id': '24942',\n",
       " 'facility': 'Andrew and Walter Young Family YMCA',\n",
       " 'address': '2220 Campbellton RD',\n",
       " 'city': 'Atlanta',\n",
       " 'state': 'GA',\n",
       " 'zipcode': '30311',\n",
       " 'date': '2019-10-07T00:00:00.000',\n",
       " 'permit_number': '1-29731',\n",
       " 'score': '96',\n",
       " 'grade': 'A',\n",
       " 'purpose': 'Followup',\n",
       " 'risk_type': '2',\n",
       " 'last_score': '82',\n",
       " 'last_grade': 'B',\n",
       " 'last_date': '2019-09-24T00:00:00.000',\n",
       " 'prior_score': '91',\n",
       " 'prior_grade': 'A',\n",
       " 'prior_date': '2019-05-08T00:00:00.000',\n",
       " 'follow_up_needed': False,\n",
       " 'date_time_in': '2019-10-07T12:35:00.000',\n",
       " 'date_time_out': '2019-10-07T13:40:00.000',\n",
       " 'follow_up_date': None}"
      ]
     },
     "execution_count": 7,
     "metadata": {},
     "output_type": "execute_result"
    }
   ],
   "source": [
    "results[0]"
   ]
  },
  {
   "cell_type": "code",
   "execution_count": 8,
   "metadata": {},
   "outputs": [
    {
     "name": "stdout",
     "output_type": "stream",
     "text": [
      "success\n"
     ]
    }
   ],
   "source": [
    "load_status = utils.load_data(conn, cur, results, logger)\n",
    "print(load_status)"
   ]
  },
  {
   "cell_type": "code",
   "execution_count": null,
   "metadata": {},
   "outputs": [],
   "source": []
  }
 ],
 "metadata": {
  "kernelspec": {
   "display_name": "Python 3",
   "language": "python",
   "name": "python3"
  },
  "language_info": {
   "codemirror_mode": {
    "name": "ipython",
    "version": 3
   },
   "file_extension": ".py",
   "mimetype": "text/x-python",
   "name": "python",
   "nbconvert_exporter": "python",
   "pygments_lexer": "ipython3",
   "version": "3.7.3"
  }
 },
 "nbformat": 4,
 "nbformat_minor": 2
}
