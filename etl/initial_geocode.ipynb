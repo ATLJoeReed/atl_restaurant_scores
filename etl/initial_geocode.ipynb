{
 "cells": [
  {
   "cell_type": "code",
   "execution_count": 10,
   "metadata": {},
   "outputs": [],
   "source": [
    "from config import constants_sql\n",
    "import utils"
   ]
  },
  {
   "cell_type": "code",
   "execution_count": 2,
   "metadata": {},
   "outputs": [],
   "source": [
    "logger = utils.setup_logger_stdout('geocode')"
   ]
  },
  {
   "cell_type": "code",
   "execution_count": 3,
   "metadata": {},
   "outputs": [],
   "source": [
    "conn, cur, dict_cur = utils.get_database_connection()"
   ]
  },
  {
   "cell_type": "code",
   "execution_count": 4,
   "metadata": {},
   "outputs": [
    {
     "name": "stdout",
     "output_type": "stream",
     "text": [
      "2019-10-20 15:25:25,520 - geocode - INFO - 5486 records to GeoCode\n"
     ]
    }
   ],
   "source": [
    "results = utils.get_records2geocode(dict_cur, logger)\n",
    "number_results = len(results)\n",
    "logger.info(f\"{number_results} records to GeoCode\")"
   ]
  },
  {
   "cell_type": "code",
   "execution_count": 5,
   "metadata": {},
   "outputs": [],
   "source": [
    "geocode_updates = []"
   ]
  },
  {
   "cell_type": "code",
   "execution_count": 6,
   "metadata": {},
   "outputs": [
    {
     "name": "stdout",
     "output_type": "stream",
     "text": [
      "2019-10-20 16:03:20,084 - geocode - ERROR - Making request - status code: 500\n",
      "2019-10-20 16:24:38,426 - geocode - INFO - GeoCoding complete\n"
     ]
    }
   ],
   "source": [
    "%%time\n",
    "for row in results:\n",
    "    geocode_results = utils.extract_geocodes(row, logger)\n",
    "    if geocode_results:\n",
    "        geocode_updates.append(geocode_results)"
   ]
  },
  {
   "cell_type": "code",
   "execution_count": 7,
   "metadata": {},
   "outputs": [
    {
     "data": {
      "text/plain": [
       "5485"
      ]
     },
     "execution_count": 7,
     "metadata": {},
     "output_type": "execute_result"
    }
   ],
   "source": [
    "len(geocode_updates)"
   ]
  },
  {
   "cell_type": "code",
   "execution_count": 8,
   "metadata": {},
   "outputs": [
    {
     "data": {
      "text/plain": [
       "{'permit_number': '(1-2779)',\n",
       " 'address': '1000 North Point CIR',\n",
       " 'city': 'Alpharetta',\n",
       " 'state': 'GA',\n",
       " 'zipcode': '30002',\n",
       " 'lat': 34.0483059,\n",
       " 'lng': -84.29488789999999}"
      ]
     },
     "execution_count": 8,
     "metadata": {},
     "output_type": "execute_result"
    }
   ],
   "source": [
    "geocode_updates[0]"
   ]
  },
  {
   "cell_type": "code",
   "execution_count": 11,
   "metadata": {},
   "outputs": [],
   "source": [
    "%%time\n",
    "cur.executemany(constants_sql.UPDATE_GEOCODING_SQL, geocode_updates)\n",
    "conn.commit()"
   ]
  },
  {
   "cell_type": "code",
   "execution_count": 12,
   "metadata": {},
   "outputs": [],
   "source": [
    "conn.close()\n",
    "cur.close()\n",
    "dict_cur.close()"
   ]
  },
  {
   "cell_type": "code",
   "execution_count": null,
   "metadata": {},
   "outputs": [],
   "source": []
  }
 ],
 "metadata": {
  "kernelspec": {
   "display_name": "Python 3",
   "language": "python",
   "name": "python3"
  },
  "language_info": {
   "codemirror_mode": {
    "name": "ipython",
    "version": 3
   },
   "file_extension": ".py",
   "mimetype": "text/x-python",
   "name": "python",
   "nbconvert_exporter": "python",
   "pygments_lexer": "ipython3",
   "version": "3.7.3"
  }
 },
 "nbformat": 4,
 "nbformat_minor": 2
}
